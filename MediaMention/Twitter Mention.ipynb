{
 "cells": [
  {
   "cell_type": "code",
   "execution_count": 2,
   "metadata": {},
   "outputs": [
    {
     "data": {
      "text/plain": [
       "'D:\\\\GitHub\\\\HMAResearch\\\\HSData\\\\MediaMention'"
      ]
     },
     "execution_count": 2,
     "metadata": {},
     "output_type": "execute_result"
    }
   ],
   "source": [
    "import tweepy\n",
    "import pandas as pd\n",
    "import os\n",
    "os.getcwd()"
   ]
  },
  {
   "cell_type": "code",
   "execution_count": 3,
   "metadata": {},
   "outputs": [],
   "source": [
    "def getAuthData(authfile):\n",
    "    import csv\n",
    "    with open(authfile, 'r') as f:\n",
    "        reader = csv.reader(f)\n",
    "        your_list = list(reader)\n",
    "\n",
    "    authdata = {}   \n",
    "    for element in your_list:\n",
    "        authdata[element[0]] = element[1]\n",
    "    #print(authdata)\n",
    "    return authdata\n",
    "\n",
    "authdata = getAuthData('authdata.csv')"
   ]
  },
  {
   "cell_type": "code",
   "execution_count": 4,
   "metadata": {},
   "outputs": [],
   "source": [
    "# set up\n",
    "CONSUMER_KEY = authdata['CONSUMER_KEY']\n",
    "CONSUMER_SECRET = authdata['CONSUMER_SECRET']\n",
    "OAUTH_TOKEN = authdata['OAUTH_TOKEN']\n",
    "OAUTH_TOKEN_SECRET = authdata['OAUTH_TOKEN_SECRET']\n",
    "auth = tweepy.OAuthHandler(CONSUMER_KEY, CONSUMER_SECRET)\n",
    "auth.set_access_token(OAUTH_TOKEN,OAUTH_TOKEN_SECRET)\n",
    "api = tweepy.API(auth) "
   ]
  },
  {
   "cell_type": "code",
   "execution_count": 11,
   "metadata": {},
   "outputs": [
    {
     "name": "stdout",
     "output_type": "stream",
     "text": [
      "2019-03-04 16:38:07 Latest news from ESFA Guidance: Academy trusts: themes arising from ESFA's assurance work - Briefing about the Educ… https://t.co/39SI2rllql\n",
      "2019-03-04 12:51:00 While there’s growing excitement about #telehealth applications, lack of reimbursement is the “most significant” ba… https://t.co/jE0jOtHWSH\n",
      "2019-03-03 18:34:00 While there’s growing excitement about #telehealth applications, lack of reimbursement is the “most significant” ba… https://t.co/nlufuMhqc2\n",
      "2019-03-02 15:09:12 Reimbursement is the top concern slowing #telehealth advancement according to a new survey by the Center for Connec… https://t.co/qOVmLqfE3O\n",
      "2019-03-01 14:07:06 Reimbursement is the top concern slowing #telehealth advancement according to a new survey by the Center for Connec… https://t.co/dtndGZv1wj\n",
      "2019-02-28 15:48:15 While there’s growing excitement about #telehealth applications, lack of reimbursement is the “most significant” ba… https://t.co/vgVA2jnf2v\n",
      "2019-02-27 18:31:04 Reimbursement is the top concern slowing #telehealth advancement according to a new survey by the Center for Connec… https://t.co/Wrl1DFB4qi\n",
      "2019-02-27 09:05:52 RT @veerappan91050: Dr Niels Van RegenmortEl @icu_nivare from Belgium is with for the 16th ACCS. He helps Prof @Manu_Malbrain with @Fluid_A…\n",
      "2019-02-27 06:16:59 Gonna start today my first day at the 5 months long further job education in the fitness, health and media manageme… https://t.co/K0EdSV892f\n",
      "2019-02-26 20:24:01 While there’s growing excitement about #telehealth applications, lack of reimbursement is the “most significant” ba… https://t.co/RjiwMmg5CI\n",
      "2019-02-25 23:36:10 @shoshfish @BreBiondi @bergpbh @RachRoch18 I'm a BU MPH student and I also work part time for another Muhlenberg pb… https://t.co/e8C9ev2RvR\n",
      "2019-02-25 19:52:00 While there’s growing excitement about #telehealth applications, lack of reimbursement is the “most significant” ba… https://t.co/GJwQtUZivd\n",
      "2019-02-24 12:35:00 While there’s growing excitement about #telehealth applications, lack of reimbursement is the “most significant” ba… https://t.co/FGzdGXonqp\n",
      "2019-02-23 20:40:02 Reimbursement is the top concern slowing #telehealth advancement according to a new survey by the Center for Connec… https://t.co/V57kUFyaby\n"
     ]
    }
   ],
   "source": [
    "searchTerm = 'The Health Management Academy' \n",
    "tweet_cursor = tweepy.Cursor(api.search,q=searchTerm)\n",
    "    \n",
    "tweetTexts = []\n",
    "tweetDates = []\n",
    "tweetUsers = []\n",
    "n=0\n",
    "\n",
    "for tweet in tweet_cursor.items():   \n",
    "    if n <= 1000:\n",
    "        tweetTexts.append(tweet.text) \n",
    "        tweetDates.append(tweet.created_at)\n",
    "            #tweetUsers.append(tweet.screen_name)\n",
    "        print (tweet.created_at, tweet.text)\n",
    "        n += 1\n",
    "    else: \n",
    "        break"
   ]
  },
  {
   "cell_type": "code",
   "execution_count": 8,
   "metadata": {},
   "outputs": [
    {
     "name": "stdout",
     "output_type": "stream",
     "text": [
      "[\"Latest news from ESFA Guidance: Academy trusts: themes arising from ESFA's assurance work - Briefing about the Educ… https://t.co/39SI2rllql\", 'While there’s growing excitement about #telehealth applications, lack of reimbursement is the “most significant” ba… https://t.co/jE0jOtHWSH', 'While there’s growing excitement about #telehealth applications, lack of reimbursement is the “most significant” ba… https://t.co/nlufuMhqc2', 'Reimbursement is the top concern slowing #telehealth advancement according to a new survey by the Center for Connec… https://t.co/qOVmLqfE3O', 'Reimbursement is the top concern slowing #telehealth advancement according to a new survey by the Center for Connec… https://t.co/dtndGZv1wj', 'While there’s growing excitement about #telehealth applications, lack of reimbursement is the “most significant” ba… https://t.co/vgVA2jnf2v', 'Reimbursement is the top concern slowing #telehealth advancement according to a new survey by the Center for Connec… https://t.co/Wrl1DFB4qi', 'RT @veerappan91050: Dr Niels Van RegenmortEl @icu_nivare from Belgium is with for the 16th ACCS. He helps Prof @Manu_Malbrain with @Fluid_A…', 'Gonna start today my first day at the 5 months long further job education in the fitness, health and media manageme… https://t.co/K0EdSV892f', 'While there’s growing excitement about #telehealth applications, lack of reimbursement is the “most significant” ba… https://t.co/RjiwMmg5CI', \"@shoshfish @BreBiondi @bergpbh @RachRoch18 I'm a BU MPH student and I also work part time for another Muhlenberg pb… https://t.co/e8C9ev2RvR\", 'While there’s growing excitement about #telehealth applications, lack of reimbursement is the “most significant” ba… https://t.co/GJwQtUZivd', 'While there’s growing excitement about #telehealth applications, lack of reimbursement is the “most significant” ba… https://t.co/FGzdGXonqp', 'Reimbursement is the top concern slowing #telehealth advancement according to a new survey by the Center for Connec… https://t.co/V57kUFyaby']\n"
     ]
    }
   ],
   "source": [
    "print(tweetTexts)"
   ]
  },
  {
   "cell_type": "code",
   "execution_count": 9,
   "metadata": {},
   "outputs": [
    {
     "name": "stdout",
     "output_type": "stream",
     "text": [
      "14\n"
     ]
    }
   ],
   "source": [
    "print(n)"
   ]
  },
  {
   "cell_type": "code",
   "execution_count": null,
   "metadata": {},
   "outputs": [],
   "source": []
  }
 ],
 "metadata": {
  "kernelspec": {
   "display_name": "Python 3",
   "language": "python",
   "name": "python3"
  },
  "language_info": {
   "codemirror_mode": {
    "name": "ipython",
    "version": 3
   },
   "file_extension": ".py",
   "mimetype": "text/x-python",
   "name": "python",
   "nbconvert_exporter": "python",
   "pygments_lexer": "ipython3",
   "version": "3.7.1"
  }
 },
 "nbformat": 4,
 "nbformat_minor": 2
}
